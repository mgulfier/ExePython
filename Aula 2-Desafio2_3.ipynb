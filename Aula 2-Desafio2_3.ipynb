{
 "cells": [
  {
   "cell_type": "markdown",
   "metadata": {},
   "source": [
    "# Desafio 2"
   ]
  },
  {
   "cell_type": "code",
   "execution_count": 1,
   "metadata": {},
   "outputs": [],
   "source": [
    "from random import randrange"
   ]
  },
  {
   "cell_type": "code",
   "execution_count": 10,
   "metadata": {},
   "outputs": [],
   "source": [
    "lista_aleat = list(map(lambda x:randrange(0,10001),range(0,10000)))"
   ]
  },
  {
   "cell_type": "code",
   "execution_count": 11,
   "metadata": {},
   "outputs": [],
   "source": [
    "conjunto_filtrado = set(filter(lambda x: 1 <= x <= 11 and x%2 == 1,lista_aleat))"
   ]
  },
  {
   "cell_type": "code",
   "execution_count": 12,
   "metadata": {},
   "outputs": [
    {
     "data": {
      "text/plain": [
       "{1, 3, 7, 11}"
      ]
     },
     "execution_count": 12,
     "metadata": {},
     "output_type": "execute_result"
    }
   ],
   "source": [
    "conjunto_filtrado"
   ]
  },
  {
   "cell_type": "markdown",
   "metadata": {},
   "source": [
    "# Desafio 3"
   ]
  },
  {
   "cell_type": "code",
   "execution_count": 15,
   "metadata": {},
   "outputs": [],
   "source": [
    "texto = \"Python é uma linguagem de propósito geral de alto nível, multi paradigma, suporta o paradigma orientado a objetos,\\\n",
    "imperativo, funcional e procedural. Possui tipagem dinâmica e uma de suas principais características é permitir a fácil\\\n",
    "leitura do código e exigir poucas linhas de código se comparado ao mesmo programa em outras linguagens. Devido às suas \\\n",
    "características, ela é principalmente utilizada para processamento de textos, dados científicos e criação de CGIs para \\\n",
    "páginas dinâmicas para a web. Foi considerada pelo público a 6ª linguagem mais amada, de acordo com uma pesquisa conduzida\\\n",
    "pelo site Stack Overflow em 2017, e está entre as 5 linguagens mais populares, de acordo com uma pesquisa conduzida pela\\\n",
    "RedMonk.\""
   ]
  },
  {
   "cell_type": "code",
   "execution_count": 23,
   "metadata": {},
   "outputs": [],
   "source": [
    "def select_most_common(texto,qtd_mais_comum):\n",
    "    from collections import Counter\n",
    "    palavras = texto.split(\" \")\n",
    "    return Counter(palavras).most_common(qtd_mais_comum)"
   ]
  },
  {
   "cell_type": "code",
   "execution_count": 24,
   "metadata": {},
   "outputs": [
    {
     "data": {
      "text/plain": [
       "[('de', 8),\n",
       " ('e', 5),\n",
       " ('uma', 4),\n",
       " ('a', 4),\n",
       " ('é', 3),\n",
       " ('para', 3),\n",
       " ('linguagem', 2),\n",
       " ('suas', 2),\n",
       " ('código', 2),\n",
       " ('em', 2)]"
      ]
     },
     "execution_count": 24,
     "metadata": {},
     "output_type": "execute_result"
    }
   ],
   "source": [
    "select_most_common(texto,10)"
   ]
  },
  {
   "cell_type": "code",
   "execution_count": 25,
   "metadata": {},
   "outputs": [
    {
     "data": {
      "text/plain": [
       "[('de', 8),\n",
       " ('e', 5),\n",
       " ('uma', 4),\n",
       " ('a', 4),\n",
       " ('é', 3),\n",
       " ('para', 3),\n",
       " ('linguagem', 2),\n",
       " ('suas', 2),\n",
       " ('código', 2),\n",
       " ('em', 2),\n",
       " ('mais', 2),\n",
       " ('acordo', 2),\n",
       " ('com', 2),\n",
       " ('pesquisa', 2),\n",
       " ('Python', 1)]"
      ]
     },
     "execution_count": 25,
     "metadata": {},
     "output_type": "execute_result"
    }
   ],
   "source": [
    "select_most_common(texto,15)"
   ]
  },
  {
   "cell_type": "code",
   "execution_count": null,
   "metadata": {},
   "outputs": [],
   "source": []
  }
 ],
 "metadata": {
  "kernelspec": {
   "display_name": "Python 3",
   "language": "python",
   "name": "python3"
  },
  "language_info": {
   "codemirror_mode": {
    "name": "ipython",
    "version": 3
   },
   "file_extension": ".py",
   "mimetype": "text/x-python",
   "name": "python",
   "nbconvert_exporter": "python",
   "pygments_lexer": "ipython3",
   "version": "3.6.5"
  }
 },
 "nbformat": 4,
 "nbformat_minor": 2
}
